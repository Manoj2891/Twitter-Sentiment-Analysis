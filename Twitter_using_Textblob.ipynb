{
 "cells": [
  {
   "cell_type": "code",
   "execution_count": 0,
   "metadata": {
    "colab": {
     "base_uri": "https://localhost:8080/",
     "height": 34
    },
    "colab_type": "code",
    "id": "k-rkMOe49on-",
    "outputId": "ce0852ec-ea58-4297-eb09-4f14d710548f"
   },
   "outputs": [
    {
     "name": "stdout",
     "output_type": "stream",
     "text": [
      "Drive already mounted at /content/drive/; to attempt to forcibly remount, call drive.mount(\"/content/drive/\", force_remount=True).\n"
     ]
    }
   ],
   "source": [
    "from google.colab import drive\n",
    "drive.mount('/content/drive/')"
   ]
  },
  {
   "cell_type": "code",
   "execution_count": 0,
   "metadata": {
    "colab": {
     "base_uri": "https://localhost:8080/",
     "height": 71
    },
    "colab_type": "code",
    "id": "ZejOpOU09qt8",
    "outputId": "7339d831-c8f2-4373-e327-8a2ccfc8aed0"
   },
   "outputs": [
    {
     "name": "stderr",
     "output_type": "stream",
     "text": [
      "/usr/local/lib/python3.6/dist-packages/statsmodels/tools/_testing.py:19: FutureWarning: pandas.util.testing is deprecated. Use the functions in the public API at pandas.testing instead.\n",
      "  import pandas.util.testing as tm\n"
     ]
    }
   ],
   "source": [
    "import pandas as pd\n",
    "import numpy as np\n",
    "\n",
    "from sklearn import preprocessing\n",
    "from sklearn.impute import SimpleImputer\n",
    "from sklearn.compose import ColumnTransformer\n",
    "\n",
    "from sklearn.preprocessing import StandardScaler\n",
    "from sklearn.preprocessing import OneHotEncoder\n",
    "from sklearn.model_selection import train_test_split\n",
    "from sklearn.pipeline import Pipeline\n",
    "from sklearn.model_selection import GridSearchCV, RandomizedSearchCV\n",
    "\n",
    "from sklearn.svm import SVC\n",
    "from sklearn.linear_model import LogisticRegression\n",
    "from sklearn.metrics import confusion_matrix\n",
    "\n",
    "import matplotlib.pyplot as plt\n",
    "import seaborn as sns\n",
    "from sklearn.metrics import accuracy_score, recall_score, precision_score\n",
    "\n",
    "import warnings\n",
    "warnings.filterwarnings('ignore')"
   ]
  },
  {
   "cell_type": "code",
   "execution_count": 0,
   "metadata": {
    "colab": {},
    "colab_type": "code",
    "id": "JSBOuYpcYofn"
   },
   "outputs": [],
   "source": [
    "import re \n",
    "import tweepy \n",
    "from tweepy import OAuthHandler \n",
    "from textblob import TextBlob "
   ]
  },
  {
   "cell_type": "code",
   "execution_count": 0,
   "metadata": {
    "colab": {},
    "colab_type": "code",
    "id": "vsYQpfHbMCap"
   },
   "outputs": [],
   "source": [
    "class TwitterClient(object): \n",
    "    ''' \n",
    "    Generic Twitter Class for sentiment analysis. \n",
    "    We create a TwitterClient class. This class contains all the methods to interact with Twitter API and parsing tweets. \n",
    "    We use __init__ function to handle the authentication of API client.\n",
    "    \n",
    "    '''\n",
    "    def __init__(self): \n",
    "        \n",
    "        # __init__ is the constructor for a class. The self variable represents the instance of the object itself.\n",
    "        # When a class defines an __init__() method, class instantiation automatically invokes __init__() for the newly-created class instance. \n",
    "        \n",
    "        ''' \n",
    "        Class constructor or initialization method. \n",
    "        '''\n",
    "        # keys and tokens from the Twitter Dev Console \n",
    "        \n",
    "        consumer_key = 'KoQWbIDr1Gqrl1Q1RuTUfMiyr'\n",
    "        consumer_secret = 'I4a0dm7eaDUBV9WwWuGzpq2jPEci0aEQ9pORRnpffDu8vmo5MX'\n",
    "        access_token = '2965508819-oPYwX8lVUFcJUa6Zv7Wm0XStplSKRqQM1Ph1d5D'\n",
    "        access_token_secret = 'wCjUSmiB1Qt8YQj6uiRwsrQeureCg49G6GtrUojT4F2Bu'\n",
    "        \n",
    "        # attempt authentication \n",
    "        try: \n",
    "            # create OAuthHandler object \n",
    "            self.auth = OAuthHandler(consumer_key, consumer_secret) \n",
    "            # set access token and secret \n",
    "            self.auth.set_access_token(access_token, access_token_secret) \n",
    "            # create tweepy API object to fetch tweets \n",
    "            self.api = tweepy.API(self.auth) \n",
    "\n",
    "        except: \n",
    "            print(\"Error: Authentication Failed\") \n",
    "  \n",
    "    def clean_tweet(self, tweet): \n",
    "        ''' \n",
    "        Utility function to clean tweet text by removing links, special characters \n",
    "        using simple regex statements. \n",
    "        '''\n",
    "        return(' '.join(re.sub(\"([,\\.():;!$%^&*\\d])|([^0-9A-Za-z \\t])\", \" \", tweet).split())) \n",
    "  \n",
    "    def get_tweet_sentiment(self, tweet): \n",
    "        ''' \n",
    "        Utility function to classify sentiment of passed tweet \n",
    "        using textblob's sentiment method \n",
    "        '''\n",
    "        # create TextBlob object of passed tweet text \n",
    "        analysis = TextBlob(self.clean_tweet(tweet)) \n",
    "        # set sentiment \n",
    "        if analysis.sentiment.polarity > 0: \n",
    "            return('positive')\n",
    "        elif analysis.sentiment.polarity == 0: \n",
    "            return ('neutral')\n",
    "        else: \n",
    "            return ('negative')\n",
    "  \n",
    "    def get_tweets(self, query, count = 100): \n",
    "        ''' \n",
    "        Main function to fetch tweets and parse them.\n",
    "        '''\n",
    "        # empty list to store parsed tweets \n",
    "        tweets = [] \n",
    "        \n",
    "        try: \n",
    "            # call twitter api to fetch tweets \n",
    "            fetched_tweets = self.api.search(q = query, count = count) \n",
    "              \n",
    "            # parsing tweets one by one \n",
    "            for tweet in fetched_tweets: \n",
    "                # empty dictionary to store required params of a tweet \n",
    "                parsed_tweet = {} \n",
    "  \n",
    "                # saving text of tweet \n",
    "                parsed_tweet['text'] = tweet.text\n",
    "                parsed_tweet['date'] = tweet.created_at\n",
    "                \n",
    "                # saving sentiment of tweet \n",
    "                parsed_tweet['sentiment'] = self.get_tweet_sentiment(tweet.text) \n",
    "  \n",
    "                # appending parsed tweet to tweets list \n",
    "                if tweet.retweet_count > 0: \n",
    "                    # if tweet has retweets, ensure that it is appended only once \n",
    "                    if parsed_tweet not in tweets: \n",
    "                        tweets.append(parsed_tweet) \n",
    "                else: \n",
    "                    tweets.append(parsed_tweet) \n",
    "  \n",
    "            # return parsed tweets \n",
    "            return (tweets) \n",
    "  \n",
    "        except tweepy.TweepError as e: \n",
    "            # print error (if any) \n",
    "            print(\"Error : \" + str(e)) \n",
    "  "
   ]
  },
  {
   "cell_type": "code",
   "execution_count": 0,
   "metadata": {
    "colab": {},
    "colab_type": "code",
    "id": "XAq0H8QFxxC4"
   },
   "outputs": [],
   "source": [
    "def main(): \n",
    "    \n",
    "    # creating object of TwitterClient Class \n",
    "    api = TwitterClient() \n",
    "    \n",
    "    # calling function to get tweets \n",
    "    tweets = api.get_tweets(query = 'work from home during lock down', count = 1500) \n",
    "    \n",
    "    # picking positive tweets from tweets \n",
    "    ptweets = [tweet for tweet in tweets if tweet['sentiment'] == 'positive'] \n",
    "    \n",
    "    # percentage of positive tweets \n",
    "    print(\"Positive tweets percentage: {} %\".format(100*len(ptweets)/len(tweets))) \n",
    "    \n",
    "    # picking negative tweets from tweets \n",
    "    ntweets = [tweet for tweet in tweets if tweet['sentiment'] == 'negative'] \n",
    "    \n",
    "    # percentage of negative tweets \n",
    "    print(\"Negative tweets percentage: {} %\".format(100*len(ntweets)/len(tweets))) \n",
    "    \n",
    "    # percentage of neutral tweets \n",
    "    print(\"Neutral tweets percentage: {} % \".format(100*(len(tweets) - (len(ntweets) + len(ptweets)))/len(tweets))) \n",
    "  \n",
    "    # printing first 10 positive tweets \n",
    "    print(\"\\n\\nPositive tweets:\") \n",
    "    for tweet in ptweets[:10]: \n",
    "        print(tweet['text'])\n",
    "        # print(tweet['date'])\n",
    "  \n",
    "    # printing first 10 negative tweets \n",
    "    print(\"\\n\\nNegative tweets:\") \n",
    "    for tweet in ntweets[:10]: \n",
    "        print(tweet['text'])\n",
    "        # print(tweet['date'])\n",
    "    "
   ]
  },
  {
   "cell_type": "code",
   "execution_count": 0,
   "metadata": {
    "colab": {
     "base_uri": "https://localhost:8080/",
     "height": 544
    },
    "colab_type": "code",
    "id": "0nedctImyH52",
    "outputId": "a47d63e0-8b37-407f-b5f9-c4f1d9c08681"
   },
   "outputs": [
    {
     "name": "stdout",
     "output_type": "stream",
     "text": [
      "Positive tweets percentage: 59.183673469387756 %\n",
      "Negative tweets percentage: 30.612244897959183 %\n",
      "Neutral tweets percentage: 10.204081632653061 % \n",
      "\n",
      "\n",
      "Positive tweets:\n",
      "@KristjanByfield Jeez 🙈 luckily for my clients I’ve been doing virtual tours for over 7 years and video tours for o… https://t.co/9PhxEZJbbz\n",
      "Psyched that the Friends of @Arhaus Children's Home is coming along so well! We were able to work during the lock d… https://t.co/zdJiDQSwYN\n",
      "RT @menon_rajini: Lock-down left many women 'working from home' with a loss of autonomy, shrinking personal space besides the trauma of dom…\n",
      "\"As we finally see the light at the end of the tunnel, factors such as mental health, #leadership and… https://t.co/A7gtorDQlZ\n",
      "RT @i_shath: @NishwanAbbas Same goes for electricity if you work/study full-time at home since lock down. So apart from your laptop your AC…\n",
      "@NishwanAbbas Same goes for electricity if you work/study full-time at home since lock down. So apart from your lap… https://t.co/J4GZaNX93S\n",
      "RT @Juliebynight: @CarlDunnJr #BPDChat I am still working full time from home during lock down. My boss keeps heaping on the work and it’s…\n",
      "RT @Juliebynight: @CarlDunnJr #BPDChat I am still working full time from home during lock down. My boss keeps heaping on the work and it’s…\n",
      "@CarlDunnJr #BPDChat I am still working full time from home during lock down. My boss keeps heaping on the work and… https://t.co/yq3Uv64CUZ\n",
      "RT @SightSupportHEY: During lock down we are still  supporting thousands of local people with sight loss across Hull and East Yorkshire. If…\n",
      "\n",
      "\n",
      "Negative tweets:\n",
      "Have you ever tried to work from home with a shirtless working outside your home during a lock down where you haven… https://t.co/b4ByAtVqmf\n",
      "@BSNLCorporate,NEW SCHEME FROM BSNL FTTH DURING LOCK DOWN PERIOD SPEED 0 MBPS WITH 600 GB DATA PER MONTH @990/ MONT… https://t.co/une7uT5Vke\n",
      "@narendramodi Respected PM Sir help us. we are overheard for times during this lock down.all of dept. has ignored t… https://t.co/NcxySBY4do\n",
      "@adambloomie2 Turning us all crazy Adam Do you know anyone that is looking to work from home during the lock down ?… https://t.co/WBj0t2rEwE\n",
      "@rajunepal During lock down \n",
      "Work from home\n",
      "Hoina ta?\n",
      "RT @ExtemporeApp: \"Apartment therapy\". Yes! That's what we have to do during lock-down to make our homes cozy workplaces. Read about home p…\n",
      "\"Apartment therapy\". Yes! That's what we have to do during lock-down to make our homes cozy workplaces. Read about… https://t.co/AG5MzbVYOU\n",
      "RT @NITINSHAYDATYA1: Work from home during lock down https://t.co/2biPfIYIHk\n",
      "Work from home during lock down https://t.co/2biPfIYIHk\n",
      "RT @ISHIR: Feel caged in work from home set up during COVID-19 lock-down? Our COO, Chetan Saxena, sharing 6 things you can do to unwind @Ch…\n"
     ]
    }
   ],
   "source": [
    "if __name__ == \"__main__\": \n",
    "    # calling main function \n",
    "    main() "
   ]
  }
 ],
 "metadata": {
  "colab": {
   "collapsed_sections": [],
   "name": "Twitter using Textblob.ipynb",
   "provenance": []
  },
  "kernelspec": {
   "display_name": "Python 3",
   "language": "python",
   "name": "python3"
  },
  "language_info": {
   "codemirror_mode": {
    "name": "ipython",
    "version": 3
   },
   "file_extension": ".py",
   "mimetype": "text/x-python",
   "name": "python",
   "nbconvert_exporter": "python",
   "pygments_lexer": "ipython3",
   "version": "3.7.1"
  }
 },
 "nbformat": 4,
 "nbformat_minor": 1
}
